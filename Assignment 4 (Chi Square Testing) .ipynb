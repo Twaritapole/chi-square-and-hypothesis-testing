{
 "cells": [
  {
   "cell_type": "code",
   "execution_count": 1,
   "id": "b25cd2d5-adf4-49e0-a52d-9bc4f499da26",
   "metadata": {},
   "outputs": [
    {
     "name": "stdout",
     "output_type": "stream",
     "text": [
      "Hypotheses:\n",
      "H0 (Null Hypothesis): There is no association between device type and customer satisfaction.\n",
      "H1 (Alternative Hypothesis): There is an association between device type and customer satisfaction.\n",
      "\n",
      "Chi-Square Test Results:\n",
      "Chi-Square Statistic: 5.6382\n",
      "Degrees of Freedom: 4\n",
      "p-value: 0.2278\n",
      "Critical Value at α = 0.05: 9.4877\n",
      "\n",
      "Expected Frequencies:\n",
      "                  Very Satisfied  Satisfied  Neutral  Unsatisfied  \\\n",
      "Smart Thermostat            48.0       72.0     60.0         32.0   \n",
      "Smart Light                 72.0      108.0     90.0         48.0   \n",
      "\n",
      "                  Very Unsatisfied  \n",
      "Smart Thermostat              28.0  \n",
      "Smart Light                   42.0  \n",
      "\n",
      "Decision: Fail to reject the null hypothesis.\n",
      "Conclusion: There is no significant association between device type and customer satisfaction.\n"
     ]
    }
   ],
   "source": [
    "import pandas as pd\n",
    "import scipy.stats as stats\n",
    "\n",
    "# Step 1: Create the contingency table\n",
    "data = {\n",
    "    'Very Satisfied': [50, 70],\n",
    "    'Satisfied': [80, 100],\n",
    "    'Neutral': [60, 90],\n",
    "    'Unsatisfied': [30, 50],\n",
    "    'Very Unsatisfied': [20, 50]\n",
    "}\n",
    "index = ['Smart Thermostat', 'Smart Light']\n",
    "df = pd.DataFrame(data, index=index)\n",
    "\n",
    "# Step 2: State the Hypotheses\n",
    "print(\"Hypotheses:\")\n",
    "print(\"H0 (Null Hypothesis): There is no association between device type and customer satisfaction.\")\n",
    "print(\"H1 (Alternative Hypothesis): There is an association between device type and customer satisfaction.\")\n",
    "print()\n",
    "\n",
    "# Step 3: Compute the Chi-Square Statistic\n",
    "chi2, p, dof, expected = stats.chi2_contingency(df)\n",
    "\n",
    "# Step 4: Display Results\n",
    "print(\"Chi-Square Test Results:\")\n",
    "print(f\"Chi-Square Statistic: {chi2:.4f}\")\n",
    "print(f\"Degrees of Freedom: {dof}\")\n",
    "print(f\"p-value: {p:.4f}\")\n",
    "\n",
    "# Step 5: Determine the Critical Value\n",
    "alpha = 0.05\n",
    "critical_value = stats.chi2.ppf(1 - alpha, dof)\n",
    "print(f\"Critical Value at α = 0.05: {critical_value:.4f}\")\n",
    "print()\n",
    "\n",
    "# Step 6: Expected Frequencies Table\n",
    "expected_df = pd.DataFrame(expected, index=index, columns=df.columns)\n",
    "print(\"Expected Frequencies:\")\n",
    "print(expected_df)\n",
    "print()\n",
    "\n",
    "# Step 7: Make a Decision\n",
    "if chi2 > critical_value:\n",
    "    print(\"Decision: Reject the null hypothesis.\")\n",
    "    print(\"Conclusion: There is a significant association between device type and customer satisfaction.\")\n",
    "else:\n",
    "    print(\"Decision: Fail to reject the null hypothesis.\")\n",
    "    print(\"Conclusion: There is no significant association between device type and customer satisfaction.\")\n"
   ]
  }
 ],
 "metadata": {
  "kernelspec": {
   "display_name": "Python [conda env:base] *",
   "language": "python",
   "name": "conda-base-py"
  },
  "language_info": {
   "codemirror_mode": {
    "name": "ipython",
    "version": 3
   },
   "file_extension": ".py",
   "mimetype": "text/x-python",
   "name": "python",
   "nbconvert_exporter": "python",
   "pygments_lexer": "ipython3",
   "version": "3.12.7"
  }
 },
 "nbformat": 4,
 "nbformat_minor": 5
}
