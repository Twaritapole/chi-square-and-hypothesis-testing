{
 "cells": [
  {
   "cell_type": "code",
   "execution_count": 1,
   "id": "a517cba3-3f6a-4924-b98b-8b98fdb6f028",
   "metadata": {},
   "outputs": [
    {
     "name": "stdout",
     "output_type": "stream",
     "text": [
      "Step 1: Hypotheses\n",
      "H0 (Null Hypothesis): The weekly operating cost is not higher than the model suggests (μ = Rs. 4000).\n",
      "H1 (Alternative Hypothesis): The weekly operating cost is higher than the model suggests (μ > Rs. 4000).\n",
      "\n",
      "Step 2: Test Statistic\n",
      "Theoretical mean cost (μ): Rs. 4000\n",
      "Standard Error (SE): Rs. 25.00\n",
      "Z-Statistic: -38.0000\n",
      "\n",
      "Step 3: Critical Value\n",
      "Critical Z-value at α = 0.05: 1.6449\n",
      "\n",
      "Step 4: Decision\n",
      "Fail to reject the null hypothesis.\n",
      "\n",
      "Step 5: Conclusion\n",
      "There is not enough evidence to support the claim that the weekly operating costs are higher than the model suggests.\n"
     ]
    }
   ],
   "source": [
    "import scipy.stats as stats\n",
    "import math\n",
    "\n",
    "# Step 1: State the Hypotheses\n",
    "print(\"Step 1: Hypotheses\")\n",
    "print(\"H0 (Null Hypothesis): The weekly operating cost is not higher than the model suggests (μ = Rs. 4000).\")\n",
    "print(\"H1 (Alternative Hypothesis): The weekly operating cost is higher than the model suggests (μ > Rs. 4000).\")\n",
    "print()\n",
    "\n",
    "# Step 2: Calculate the Test Statistic\n",
    "\n",
    "# Given:\n",
    "sample_mean = 3050  # Rs.\n",
    "X = 600  # number of units\n",
    "model_mean = 1000 + 5 * X  # Theoretical weekly cost = Rs. 1000 + Rs. 5 * X\n",
    "sigma = 5 * 25  # Standard deviation of weekly cost\n",
    "n = 25  # sample size\n",
    "\n",
    "# Compute test statistic (Z)\n",
    "standard_error = sigma / math.sqrt(n)\n",
    "z = (sample_mean - model_mean) / standard_error\n",
    "\n",
    "print(\"Step 2: Test Statistic\")\n",
    "print(f\"Theoretical mean cost (μ): Rs. {model_mean}\")\n",
    "print(f\"Standard Error (SE): Rs. {standard_error:.2f}\")\n",
    "print(f\"Z-Statistic: {z:.4f}\")\n",
    "print()\n",
    "\n",
    "# Step 3: Determine the Critical Value\n",
    "alpha = 0.05\n",
    "critical_value = stats.norm.ppf(1 - alpha)  # One-tailed test\n",
    "\n",
    "print(\"Step 3: Critical Value\")\n",
    "print(f\"Critical Z-value at α = 0.05: {critical_value:.4f}\")\n",
    "print()\n",
    "\n",
    "# Step 4: Make a Decision\n",
    "print(\"Step 4: Decision\")\n",
    "if z > critical_value:\n",
    "    print(\"Reject the null hypothesis.\")\n",
    "else:\n",
    "    print(\"Fail to reject the null hypothesis.\")\n",
    "print()\n",
    "\n",
    "# Step 5: Conclusion\n",
    "print(\"Step 5: Conclusion\")\n",
    "if z > critical_value:\n",
    "    print(\"There is strong evidence to support the restaurant owners' claim that the weekly operating costs are higher than the model suggests.\")\n",
    "else:\n",
    "    print(\"There is not enough evidence to support the claim that the weekly operating costs are higher than the model suggests.\")\n"
   ]
  }
 ],
 "metadata": {
  "kernelspec": {
   "display_name": "Python [conda env:base] *",
   "language": "python",
   "name": "conda-base-py"
  },
  "language_info": {
   "codemirror_mode": {
    "name": "ipython",
    "version": 3
   },
   "file_extension": ".py",
   "mimetype": "text/x-python",
   "name": "python",
   "nbconvert_exporter": "python",
   "pygments_lexer": "ipython3",
   "version": "3.12.7"
  }
 },
 "nbformat": 4,
 "nbformat_minor": 5
}
